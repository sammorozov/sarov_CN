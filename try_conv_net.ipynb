{
 "cells": [
  {
   "cell_type": "code",
   "execution_count": 274,
   "metadata": {},
   "outputs": [],
   "source": [
    "import torch\n",
    "import random\n",
    "import numpy as np\n",
    "import pandas as pd\n",
    "import torch.nn as nn\n",
    "import torch.nn.functional as F\n",
    "import torch\n",
    "import torch.nn as nn\n",
    "import torch.optim as optim\n",
    "import numpy as np"
   ]
  },
  {
   "cell_type": "code",
   "execution_count": 275,
   "metadata": {},
   "outputs": [
    {
     "name": "stdout",
     "output_type": "stream",
     "text": [
      "10 %\n",
      "20 %\n",
      "30 %\n",
      "40 %\n",
      "50 %\n",
      "60 %\n",
      "70 %\n",
      "80 %\n",
      "90 %\n"
     ]
    }
   ],
   "source": [
    "\n",
    "\n",
    "\n",
    "x_train_simple = []\n",
    "y_train_simple = []\n",
    "\n",
    "a = []\n",
    "\n",
    "\n",
    "def read_matrix(l):\n",
    "    matrix22 = []\n",
    "    input_matrix = []\n",
    "\n",
    "    with open(f'D:\\\\my_pyhton_projects\\\\nn_sarov\\\\matrix\\\\file_matrix{l}.txt') as f:\n",
    "        for i in range(10):\n",
    "            for j in range(3):\n",
    "                input_matrix += map(float, f.readline().replace('[', '').replace(']','').replace('\\n', '').split())\n",
    "            matrix22.append(input_matrix)\n",
    "            input_matrix = []\n",
    "    return matrix22\n",
    "\n",
    "\n",
    "for i in range(1, 65537):\n",
    "    a.append(read_matrix(i))\n",
    "    if i % 6555 == 0:\n",
    "        print(i//655, '%')\n",
    "\n",
    "b = torch.tensor(a)\n",
    "\n",
    "\n",
    "x_train = b\n"
   ]
  },
  {
   "cell_type": "code",
   "execution_count": 3,
   "metadata": {},
   "outputs": [
    {
     "data": {
      "text/plain": [
       "torch.Size([65536, 10, 10])"
      ]
     },
     "execution_count": 3,
     "metadata": {},
     "output_type": "execute_result"
    }
   ],
   "source": [
    "x_train.size()"
   ]
  },
  {
   "cell_type": "code",
   "execution_count": 187,
   "metadata": {},
   "outputs": [
    {
     "name": "stdout",
     "output_type": "stream",
     "text": [
      "10 %\n",
      "20 %\n",
      "30 %\n",
      "40 %\n",
      "50 %\n",
      "60 %\n",
      "70 %\n",
      "80 %\n",
      "90 %\n"
     ]
    }
   ],
   "source": [
    "def read_phases(l):\n",
    "\n",
    "    phases2 = []\n",
    "    with open(f'D:\\\\my_pyhton_projects\\\\nn_sarov\\\\Y_train3\\\\delta_phases{l}.txt') as f:\n",
    "        phases = f.readline().replace('[', '').replace(']','').replace('\\n', '').replace(',', '').split()\n",
    "        \n",
    "    for i in range(4):\n",
    "        phases2.append(float(phases[i]))\n",
    "        \n",
    "    return phases2\n",
    "\n",
    "a2 = []\n",
    "\n",
    "for i in range(1, 65537):\n",
    "    a2.append(read_phases(i))\n",
    "    if i % 6555 == 0:\n",
    "        print(i//655, '%')\n",
    "\n",
    "\n",
    "b2 = torch.tensor(a2)\n",
    "\n",
    "\n",
    "y_train = b2\n",
    "\n"
   ]
  },
  {
   "cell_type": "code",
   "execution_count": 188,
   "metadata": {},
   "outputs": [
    {
     "data": {
      "text/plain": [
       "torch.Size([65536, 4])"
      ]
     },
     "execution_count": 188,
     "metadata": {},
     "output_type": "execute_result"
    }
   ],
   "source": [
    "y_train.size()"
   ]
  },
  {
   "cell_type": "code",
   "execution_count": null,
   "metadata": {},
   "outputs": [],
   "source": [
    "#ансквизим выборки"
   ]
  },
  {
   "cell_type": "code",
   "execution_count": null,
   "metadata": {},
   "outputs": [],
   "source": [
    "# x_train = x_train.unsqueeze(1).float()"
   ]
  },
  {
   "cell_type": "code",
   "execution_count": 189,
   "metadata": {},
   "outputs": [
    {
     "data": {
      "text/plain": [
       "65536"
      ]
     },
     "execution_count": 189,
     "metadata": {},
     "output_type": "execute_result"
    }
   ],
   "source": [
    "len(x_train)\n"
   ]
  },
  {
   "cell_type": "code",
   "execution_count": 190,
   "metadata": {},
   "outputs": [],
   "source": [
    "class LeNet5(torch.nn.Module):\n",
    "    def __init__(self):\n",
    "        super(LeNet5, self).__init__()\n",
    "        \n",
    "        self.conv1 = torch.nn.Conv2d(\n",
    "            in_channels=1, out_channels=6, kernel_size=3, padding=1)\n",
    "        self.act1  = torch.nn.Tanh()\n",
    "        self.pool1 = torch.nn.AvgPool2d(kernel_size=3, stride=1)\n",
    "       \n",
    "        self.conv2 = torch.nn.Conv2d(\n",
    "            in_channels=6, out_channels=16, kernel_size=3, padding=1)\n",
    "        self.act2  = torch.nn.Tanh()\n",
    "        self.pool2 = torch.nn.AvgPool2d(kernel_size=3, stride=1)\n",
    "        \n",
    "        self.fc1   = torch.nn.Linear(576, 120)\n",
    "        self.act3  = torch.nn.Tanh()\n",
    "        \n",
    "        self.fc2   = torch.nn.Linear(120, 60)\n",
    "        self.act4  = torch.nn.Tanh()\n",
    "        \n",
    "        \n",
    "        self.fc3   = torch.nn.Linear(60, 10)\n",
    "        self.act5  = torch.nn.Tanh()\n",
    "        \n",
    "        self.fc4   = torch.nn.Linear(10, 4)\n",
    "    \n",
    "    def forward(self, x):\n",
    "        \n",
    "        x = self.conv1(x)\n",
    "        x = self.act1(x)\n",
    "        x = self.pool1(x)\n",
    "        \n",
    "        x = self.conv2(x)\n",
    "        x = self.act2(x)\n",
    "        x = self.pool2(x)\n",
    "        \n",
    "        x = x.view(x.size(0), x.size(1) * x.size(2) * x.size(3))\n",
    "\n",
    "        x = self.fc1(x)\n",
    "        x = self.act3(x)\n",
    "        x = self.fc2(x)\n",
    "        x = self.act4(x)\n",
    "        x = self.fc3(x)\n",
    "        x = self.act5(x)\n",
    "        x = self.fc4(x)\n",
    "        \n",
    "        return x\n",
    "    \n",
    "lenet5 = LeNet5()"
   ]
  },
  {
   "cell_type": "code",
   "execution_count": 191,
   "metadata": {},
   "outputs": [],
   "source": [
    "X_train = x_train.unsqueeze(1).float()"
   ]
  },
  {
   "cell_type": "code",
   "execution_count": 192,
   "metadata": {},
   "outputs": [
    {
     "data": {
      "text/plain": [
       "torch.Size([65536, 1, 10, 10])"
      ]
     },
     "execution_count": 192,
     "metadata": {},
     "output_type": "execute_result"
    }
   ],
   "source": [
    "X_train.shape"
   ]
  },
  {
   "cell_type": "code",
   "execution_count": 194,
   "metadata": {},
   "outputs": [],
   "source": [
    "\n",
    "loss = nn.MSELoss()\n",
    "optimizer = torch.optim.Adam(lenet5.parameters(), lr=1.0e-2)"
   ]
  },
  {
   "cell_type": "code",
   "execution_count": 195,
   "metadata": {},
   "outputs": [
    {
     "name": "stdout",
     "output_type": "stream",
     "text": [
      "Epoch [1/10], Loss: 0.7848\n",
      "Epoch [2/10], Loss: 1.1278\n",
      "Epoch [3/10], Loss: 1.0373\n",
      "Epoch [4/10], Loss: 1.0215\n",
      "Epoch [5/10], Loss: 0.9470\n",
      "Epoch [6/10], Loss: 0.8464\n",
      "Epoch [7/10], Loss: 0.8841\n",
      "Epoch [8/10], Loss: 0.8523\n",
      "Epoch [9/10], Loss: 1.0104\n",
      "Epoch [10/10], Loss: 0.8331\n"
     ]
    }
   ],
   "source": [
    "batch_size = 100\n",
    "\n",
    "\n",
    "for epoch in range(10):\n",
    "    order = np.random.permutation(len(X_train))\n",
    "    for start_index in range(0, len(X_train), batch_size):\n",
    "        optimizer.zero_grad()\n",
    "        \n",
    "        batch_indexes = order[start_index:start_index+batch_size]\n",
    "        \n",
    "        X_batch = X_train[batch_indexes]\n",
    "        y_batch = y_train[batch_indexes]\n",
    "        #print(X_batch)\n",
    "        #print(y_batch)\n",
    "        preds = lenet5.forward(X_batch) \n",
    "        #print(preds)\n",
    "        loss_value = loss(preds, y_batch)\n",
    "        loss_value.backward()\n",
    "        \n",
    "        optimizer.step()\n",
    "    print('Epoch [{}/{}], Loss: {:.4f}'.format(epoch+1, 10, loss_value))\n",
    "        \n",
    "    "
   ]
  },
  {
   "cell_type": "code",
   "execution_count": 196,
   "metadata": {},
   "outputs": [],
   "source": [
    "def predict(lenet5, x):\n",
    "    y_pred = lenet5.forward(x)\n",
    "\n",
    "    return y_pred"
   ]
  },
  {
   "cell_type": "code",
   "execution_count": 49,
   "metadata": {},
   "outputs": [],
   "source": [
    "import matplotlib.pyplot as plt"
   ]
  },
  {
   "cell_type": "code",
   "execution_count": null,
   "metadata": {},
   "outputs": [],
   "source": [
    "epochs = [i for i in range(100)]\n",
    "plt.figure(figsize=(15, 10))\n",
    "plt.plot(epochs, losses)\n",
    "plt.show()"
   ]
  },
  {
   "cell_type": "code",
   "execution_count": 197,
   "metadata": {},
   "outputs": [],
   "source": [
    "# предскажем fi = [[0, 0, 0, 0], [1, 2, 3, 4], [1, 2, 1, 4], [1, 2, 2, 5], [0, 2, 0, 4], [1, 1, 1, 1]]"
   ]
  },
  {
   "cell_type": "code",
   "execution_count": 198,
   "metadata": {},
   "outputs": [
    {
     "data": {
      "text/plain": [
       "tensor([[4.9003e+07, 6.1595e+08, 1.8915e+10, 3.5378e+07, 2.1743e+11, 2.1743e+11,\n",
       "         3.5378e+07, 1.8915e+10, 6.1595e+08, 4.9003e+07],\n",
       "        [3.7981e+08, 4.7881e+09, 2.3612e+11, 5.8170e+08, 3.8718e+12, 3.8718e+12,\n",
       "         5.8170e+08, 2.3612e+11, 4.7881e+09, 3.7981e+08],\n",
       "        [3.1846e+09, 1.1187e+11, 8.8621e+12, 2.2373e+10, 1.4497e+14, 1.4497e+14,\n",
       "         2.2373e+10, 8.8621e+12, 1.1187e+11, 3.1846e+09],\n",
       "        [1.6717e+06, 2.6753e+08, 1.9181e+10, 4.3686e+07, 2.6843e+11, 2.6843e+11,\n",
       "         4.3686e+07, 1.9181e+10, 2.6753e+08, 1.6717e+06],\n",
       "        [1.7125e+10, 1.9678e+12, 1.2353e+14, 2.6315e+11, 1.5671e+15, 1.5671e+15,\n",
       "         2.6315e+11, 1.2353e+14, 1.9678e+12, 1.7125e+10],\n",
       "        [1.7125e+10, 1.9678e+12, 1.2353e+14, 2.6315e+11, 1.5671e+15, 1.5671e+15,\n",
       "         2.6315e+11, 1.2353e+14, 1.9678e+12, 1.7125e+10],\n",
       "        [1.6717e+06, 2.6753e+08, 1.9181e+10, 4.3686e+07, 2.6843e+11, 2.6843e+11,\n",
       "         4.3686e+07, 1.9181e+10, 2.6753e+08, 1.6717e+06],\n",
       "        [3.1846e+09, 1.1187e+11, 8.8621e+12, 2.2373e+10, 1.4497e+14, 1.4497e+14,\n",
       "         2.2373e+10, 8.8621e+12, 1.1187e+11, 3.1846e+09],\n",
       "        [3.7981e+08, 4.7881e+09, 2.3612e+11, 5.8170e+08, 3.8718e+12, 3.8718e+12,\n",
       "         5.8170e+08, 2.3612e+11, 4.7881e+09, 3.7981e+08],\n",
       "        [4.9003e+07, 6.1595e+08, 1.8915e+10, 3.5378e+07, 2.1743e+11, 2.1743e+11,\n",
       "         3.5378e+07, 1.8915e+10, 6.1595e+08, 4.9003e+07]])"
      ]
     },
     "execution_count": 198,
     "metadata": {},
     "output_type": "execute_result"
    }
   ],
   "source": [
    "def read_matrix_hui(l):\n",
    "    matrix22 = []\n",
    "    input_matrix = []\n",
    "\n",
    "    with open(f'D:\\\\my_pyhton_projects\\\\nn_sarov\\\\X_validation\\\\file_matrix{l}.txt') as f:\n",
    "        for i in range(10):\n",
    "            for j in range(3):\n",
    "                input_matrix += map(float, f.readline().replace('[', '').replace(']','').replace('\\n', '').split())\n",
    "            matrix22.append(input_matrix)\n",
    "            input_matrix = []\n",
    "    return matrix22\n",
    "x_valid = torch.Tensor(read_matrix_hui(5)) #параметр считывания настроим вручную\n",
    "x_valid"
   ]
  },
  {
   "cell_type": "code",
   "execution_count": 199,
   "metadata": {},
   "outputs": [
    {
     "data": {
      "text/plain": [
       "torch.Size([10, 10])"
      ]
     },
     "execution_count": 199,
     "metadata": {},
     "output_type": "execute_result"
    }
   ],
   "source": [
    "x_valid.shape"
   ]
  },
  {
   "cell_type": "code",
   "execution_count": 202,
   "metadata": {},
   "outputs": [],
   "source": [
    "x_valid = x_valid.unsqueeze(0).float()"
   ]
  },
  {
   "cell_type": "code",
   "execution_count": 203,
   "metadata": {},
   "outputs": [
    {
     "data": {
      "text/plain": [
       "torch.Size([1, 1, 10, 10])"
      ]
     },
     "execution_count": 203,
     "metadata": {},
     "output_type": "execute_result"
    }
   ],
   "source": [
    "x_valid.shape"
   ]
  },
  {
   "cell_type": "code",
   "execution_count": 204,
   "metadata": {},
   "outputs": [
    {
     "data": {
      "text/plain": [
       "tensor([[-0.6045,  0.5074, -0.2842,  0.6157]], grad_fn=<AddmmBackward0>)"
      ]
     },
     "execution_count": 204,
     "metadata": {},
     "output_type": "execute_result"
    }
   ],
   "source": [
    "pred_hui = predict(lenet5, x_valid)\n",
    "pred_hui"
   ]
  },
  {
   "cell_type": "code",
   "execution_count": 205,
   "metadata": {},
   "outputs": [],
   "source": [
    "#Вывод итогового результата"
   ]
  },
  {
   "cell_type": "code",
   "execution_count": 206,
   "metadata": {},
   "outputs": [],
   "source": [
    "import numpy as np\n",
    "import matplotlib.pylab as plt\n",
    "from math import pi, exp\n",
    "import random\n",
    "import torch\n",
    "\n",
    "lmbda = 0.5e-6 # длина волны\n",
    "k = 2*pi/lmbda # Волновое число\n",
    "z = 4 # Расстояние от XY до UV (Тогда u, v береv в диапазоне [-0.01, 0.01]), чтобы диапазон углов был в [-5, 5]\n",
    "m = k/z\n",
    "E0 = 1\n",
    "\n",
    "# Разобъём дальнюю зону на точки, в которых считаем интенсивность\n",
    "x = np.linspace(-0.0009, 0.0009, 10)\n",
    "y = np.linspace(-0.0009, 0.0009, 10)"
   ]
  },
  {
   "cell_type": "code",
   "execution_count": 207,
   "metadata": {},
   "outputs": [
    {
     "name": "stdout",
     "output_type": "stream",
     "text": [
      "fi1 =  [1, 1, 1, 1] начальное задание фаз которые мы как будто не знаем в реальном эксперименте\n",
      "fi2 =  [-0.60452706  0.50739217 -0.28423247  0.6157032 ] генерация сдвигов фаз нейросетью\n",
      "fi =  [0.3954729437828064, 1.507392168045044, 0.7157675325870514, 1.6157032251358032] итоговые фазы для построения\n"
     ]
    }
   ],
   "source": [
    "fi1 = [1, 1, 1, 1]\n",
    "fi2 = pred_hui.detach()[0].numpy() \n",
    "fi = [i + k for i, k in zip(fi2, fi1)]\n",
    "\n",
    "print('fi1 = ', fi1, 'начальное задание фаз которые мы как будто не знаем в реальном эксперименте')\n",
    "print('fi2 = ', fi2, 'генерация сдвигов фаз нейросетью')\n",
    "print('fi = ', fi, 'итоговые фазы для построения')\n",
    "\n",
    "\n"
   ]
  },
  {
   "cell_type": "code",
   "execution_count": 208,
   "metadata": {},
   "outputs": [],
   "source": [
    "# данный алгос строит распределение по fi\n",
    "\n",
    "# Длина стороны\n",
    "a = 0.003\n",
    "y20 = 1.05 * a\n",
    "x2 = -1.05 * a\n",
    "y10 = 0.05 * a\n",
    "x1 = -0.05 * a\n",
    "y2 = y20\n",
    "y1 = y10\n",
    "zss = 0\n",
    "# xss, yss = 0.001, 0.001 \n",
    "xss, yss = np.meshgrid(x, y, sparse=True)\n",
    "n = 0\n",
    "for i in range(2):\n",
    "    for j in range(2):\n",
    "        Exy = E0*(np.cos(fi[n]) + 1j*np.sin(fi[n]))\n",
    "        zss += (Exy*(np.cos(k*(xss**2 +yss**2)/(2*z)) + np.sin(k*(xss*2 + yss**2)/(2*z)) * 1j)/(1j*lmbda*z) *\n",
    "         (-1/(m*(xss*yss))) * (np.cos((x2*xss + y2*yss)*m) - 1j*np.sin((x2*xss + y2*yss)*m) - \n",
    "                             np.cos((x1*xss + y2*yss)*m) + 1j*np.sin((x1*xss + y2*yss)*m) -\n",
    "                             np.cos((x2*xss + y1*yss)*m) + 1j*np.sin((x2*xss + y1*yss)*m) + \n",
    "                             np.cos((x1*xss + y1*yss)*m) - 1j*np.sin((x1*xss + y1*yss)*m)))\n",
    "        n += 1 # Для каждой субаппертуры берем значение из списка fi\n",
    "        y2 -= 1.1*a\n",
    "        y1 -= 1.1*a\n",
    "    x2 += 1.1*a \n",
    "    x1 += 1.1*a  \n",
    "    y2 = y20\n",
    "    y1 = y10\n",
    "E = abs(zss)**2   "
   ]
  },
  {
   "cell_type": "code",
   "execution_count": 209,
   "metadata": {},
   "outputs": [
    {
     "data": {
      "image/png": "[encoded data removed]",
      "text/plain": [
       "<Figure size 1000x1000 with 1 Axes>"
      ]
     },
     "metadata": {},
     "output_type": "display_data"
    }
   ],
   "source": [
    "# вывод графика\n",
    "fig, ax = plt.subplots(figsize=(10,10))\n",
    "ax.pcolormesh(xss, yss, E, cmap=plt.get_cmap('viridis'))\n",
    "plt.show()"
   ]
  },
  {
   "cell_type": "code",
   "execution_count": 84,
   "metadata": {},
   "outputs": [],
   "source": [
    "# так же выведем изначальное распределение\n"
   ]
  },
  {
   "cell_type": "code",
   "execution_count": 85,
   "metadata": {},
   "outputs": [],
   "source": [
    "fi = fi1"
   ]
  },
  {
   "cell_type": "code",
   "execution_count": 86,
   "metadata": {},
   "outputs": [],
   "source": [
    "# Длина стороны\n",
    "a = 0.003\n",
    "y20 = 1.05 * a\n",
    "x2 = -1.05 * a\n",
    "y10 = 0.05 * a\n",
    "x1 = -0.05 * a\n",
    "y2 = y20\n",
    "y1 = y10\n",
    "zss = 0\n",
    "# xss, yss = 0.001, 0.001 \n",
    "xss, yss = np.meshgrid(x, y, sparse=True)\n",
    "n = 0\n",
    "for i in range(2):\n",
    "    for j in range(2):\n",
    "        Exy = E0*(np.cos(fi[n]) + 1j*np.sin(fi[n]))\n",
    "        zss += (Exy*(np.cos(k*(xss**2 +yss**2)/(2*z)) + np.sin(k*(xss*2 + yss**2)/(2*z)) * 1j)/(1j*lmbda*z) *\n",
    "         (-1/(m*(xss*yss))) * (np.cos((x2*xss + y2*yss)*m) - 1j*np.sin((x2*xss + y2*yss)*m) - \n",
    "                             np.cos((x1*xss + y2*yss)*m) + 1j*np.sin((x1*xss + y2*yss)*m) -\n",
    "                             np.cos((x2*xss + y1*yss)*m) + 1j*np.sin((x2*xss + y1*yss)*m) + \n",
    "                             np.cos((x1*xss + y1*yss)*m) - 1j*np.sin((x1*xss + y1*yss)*m)))\n",
    "        n += 1 # Для каждой субаппертуры берем значение из списка fi\n",
    "        y2 -= 1.1*a\n",
    "        y1 -= 1.1*a\n",
    "    x2 += 1.1*a \n",
    "    x1 += 1.1*a  \n",
    "    y2 = y20\n",
    "    y1 = y10\n",
    "E = abs(zss)**2  "
   ]
  },
  {
   "cell_type": "code",
   "execution_count": 87,
   "metadata": {},
   "outputs": [
    {
     "data": {
      "image/png": "[encoded data removed]",
      "text/plain": [
       "<Figure size 1000x1000 with 1 Axes>"
      ]
     },
     "metadata": {},
     "output_type": "display_data"
    }
   ],
   "source": [
    "# вывод графика\n",
    "fig, ax = plt.subplots(figsize=(10,10))\n",
    "ax.pcolormesh(xss, yss, E, cmap=plt.get_cmap('viridis'))\n",
    "plt.show()"
   ]
  },
  {
   "cell_type": "code",
   "execution_count": 88,
   "metadata": {},
   "outputs": [],
   "source": [
    "def I_0(fi, zss = 0, a=0.003):\n",
    "    for i in range(4):\n",
    "        zss += E0/(1j*lmbda*z) * (a**2) * (np.cos(fi[i]) + 1j*np.sin(fi[i]))\n",
    "    E = abs(zss)**2 \n",
    "    return E"
   ]
  },
  {
   "cell_type": "code",
   "execution_count": 247,
   "metadata": {},
   "outputs": [
    {
     "name": "stdout",
     "output_type": "stream",
     "text": [
      "10 %\n",
      "20 %\n",
      "30 %\n",
      "40 %\n",
      "50 %\n",
      "60 %\n",
      "70 %\n",
      "80 %\n",
      "90 %\n",
      "100 %\n"
     ]
    }
   ],
   "source": [
    "def read_matrix_10000(s):\n",
    "    matrix22 = []\n",
    "    input_matrix = []\n",
    "\n",
    "    with open(f'D:\\\\my_pyhton_projects\\\\nn_sarov\\\\x_validation_test\\\\file_matrix{s}.txt') as f:\n",
    "        for i in range(10):\n",
    "            for j in range(3):\n",
    "                input_matrix += map(float, f.readline().replace('[', '').replace(']','').replace('\\n', '').split())\n",
    "            matrix22.append(input_matrix)\n",
    "            input_matrix = []\n",
    "    return matrix22\n",
    "\n",
    "a4 = []\n",
    "for i in range(1, 10001):\n",
    "    a4.append(read_matrix_10000(i))\n",
    "    if i % 1000 == 0:\n",
    "        print(i//100, '%')\n",
    "\n",
    "b4 = torch.tensor(a4)\n",
    "\n",
    "\n",
    "X_V = b4"
   ]
  },
  {
   "cell_type": "code",
   "execution_count": 213,
   "metadata": {},
   "outputs": [
    {
     "name": "stdout",
     "output_type": "stream",
     "text": [
      "10 %\n",
      "20 %\n",
      "30 %\n",
      "40 %\n",
      "50 %\n",
      "60 %\n",
      "70 %\n",
      "80 %\n",
      "90 %\n",
      "100 %\n"
     ]
    }
   ],
   "source": [
    "def read_phases_10000(s):\n",
    "\n",
    "    phases2 = []\n",
    "    with open(f'D:\\\\my_pyhton_projects\\\\nn_sarov\\\\y_validation_test\\\\initial_phases{s}.txt') as f:\n",
    "        phases = f.readline().replace('[', '').replace(']','').replace('\\n', '').replace(',', '').split()\n",
    "        \n",
    "    for i in range(4):\n",
    "        phases2.append(float(phases[i]))\n",
    "        \n",
    "    return phases2\n",
    "\n",
    "a5 = []\n",
    "\n",
    "for i in range(1, 10001):\n",
    "    a5.append(read_phases_10000(i))\n",
    "    if i % 1000 == 0:\n",
    "        print(i//100, '%')\n",
    "\n",
    "\n",
    "b5 = torch.tensor(a5)\n",
    "\n",
    "Y_V = b5\n",
    "\n"
   ]
  },
  {
   "cell_type": "code",
   "execution_count": 214,
   "metadata": {},
   "outputs": [
    {
     "data": {
      "text/plain": [
       "torch.Size([10000, 4])"
      ]
     },
     "execution_count": 214,
     "metadata": {},
     "output_type": "execute_result"
    }
   ],
   "source": [
    "Y_V.size()"
   ]
  },
  {
   "cell_type": "code",
   "execution_count": 248,
   "metadata": {},
   "outputs": [],
   "source": [
    "deltas  = []\n",
    "\n"
   ]
  },
  {
   "cell_type": "code",
   "execution_count": 253,
   "metadata": {},
   "outputs": [],
   "source": [
    "X_V = X_V.unsqueeze(1).float() #применить 2 раза\n",
    "\n"
   ]
  },
  {
   "cell_type": "code",
   "execution_count": 254,
   "metadata": {},
   "outputs": [
    {
     "data": {
      "text/plain": [
       "torch.Size([1, 1, 10, 10])"
      ]
     },
     "execution_count": 254,
     "metadata": {},
     "output_type": "execute_result"
    }
   ],
   "source": [
    "X_V[1].shape"
   ]
  },
  {
   "cell_type": "code",
   "execution_count": 255,
   "metadata": {},
   "outputs": [],
   "source": [
    "for i in range(10000):\n",
    "    a = predict(lenet5, X_V[i]).detach()\n",
    "    b = a.numpy()\n",
    "    deltas.append(b)\n",
    "    \n",
    "    \n",
    "                  \n",
    "\n",
    "    "
   ]
  },
  {
   "cell_type": "code",
   "execution_count": 256,
   "metadata": {},
   "outputs": [
    {
     "data": {
      "text/plain": [
       "10000"
      ]
     },
     "execution_count": 256,
     "metadata": {},
     "output_type": "execute_result"
    }
   ],
   "source": [
    "len(deltas)"
   ]
  },
  {
   "cell_type": "code",
   "execution_count": 257,
   "metadata": {},
   "outputs": [],
   "source": [
    "Initial_phases = []"
   ]
  },
  {
   "cell_type": "code",
   "execution_count": null,
   "metadata": {},
   "outputs": [],
   "source": []
  },
  {
   "cell_type": "code",
   "execution_count": 258,
   "metadata": {},
   "outputs": [],
   "source": [
    "for i in range(10000):\n",
    "    a = Y_V[i].detach()\n",
    "    b = a.numpy()\n",
    "    Initial_phases.append(b)"
   ]
  },
  {
   "cell_type": "code",
   "execution_count": 259,
   "metadata": {},
   "outputs": [
    {
     "data": {
      "text/plain": [
       "10000"
      ]
     },
     "execution_count": 259,
     "metadata": {},
     "output_type": "execute_result"
    }
   ],
   "source": [
    "len(Initial_phases)"
   ]
  },
  {
   "cell_type": "code",
   "execution_count": 260,
   "metadata": {},
   "outputs": [],
   "source": [
    "def I_0(fi, zss = 0, a=0.003):\n",
    "    for i in range(4):\n",
    "        zss += E0/(1j*lmbda*z) * (a**2) * (np.cos(fi[i]) + 1j*np.sin(fi[i]))\n",
    "    E = abs(zss)**2 \n",
    "    return E"
   ]
  },
  {
   "cell_type": "code",
   "execution_count": 261,
   "metadata": {},
   "outputs": [],
   "source": [
    "I_max = I_0([0, 0, 0, 0])"
   ]
  },
  {
   "cell_type": "code",
   "execution_count": 262,
   "metadata": {},
   "outputs": [
    {
     "data": {
      "text/plain": [
       "324.0"
      ]
     },
     "execution_count": 262,
     "metadata": {},
     "output_type": "execute_result"
    }
   ],
   "source": [
    "I_max"
   ]
  },
  {
   "cell_type": "code",
   "execution_count": 263,
   "metadata": {},
   "outputs": [],
   "source": [
    "Initial_Strel = []\n",
    "\n"
   ]
  },
  {
   "cell_type": "code",
   "execution_count": 264,
   "metadata": {},
   "outputs": [],
   "source": [
    "for i in Initial_phases:\n",
    "    Initial_Strel.append(round(I_0(i)/I_max, 2))\n",
    "    \n"
   ]
  },
  {
   "cell_type": "code",
   "execution_count": 265,
   "metadata": {},
   "outputs": [
    {
     "data": {
      "text/plain": [
       "0.13"
      ]
     },
     "execution_count": 265,
     "metadata": {},
     "output_type": "execute_result"
    }
   ],
   "source": [
    "Initial_Strel[0]"
   ]
  },
  {
   "cell_type": "code",
   "execution_count": 266,
   "metadata": {},
   "outputs": [
    {
     "data": {
      "text/plain": [
       "563"
      ]
     },
     "execution_count": 266,
     "metadata": {},
     "output_type": "execute_result"
    }
   ],
   "source": [
    "cnt = 0\n",
    "for i in Initial_Strel:\n",
    "    if i >= 0.7:\n",
    "        cnt +=1\n",
    "        \n",
    "cnt"
   ]
  },
  {
   "cell_type": "code",
   "execution_count": 267,
   "metadata": {},
   "outputs": [],
   "source": [
    "Final_Strel = []\n",
    "Final_phases = []"
   ]
  },
  {
   "cell_type": "code",
   "execution_count": 268,
   "metadata": {},
   "outputs": [],
   "source": [
    "Final_phases = [i + k for i,k in zip(Initial_phases, deltas)]"
   ]
  },
  {
   "cell_type": "code",
   "execution_count": 269,
   "metadata": {},
   "outputs": [
    {
     "data": {
      "text/plain": [
       "array([ 2.1830444, -1.7815357, -1.9968423, -1.0220554], dtype=float32)"
      ]
     },
     "execution_count": 269,
     "metadata": {},
     "output_type": "execute_result"
    }
   ],
   "source": [
    "Final_phases[1][0]"
   ]
  },
  {
   "cell_type": "code",
   "execution_count": 270,
   "metadata": {},
   "outputs": [],
   "source": [
    "for i in Final_phases:\n",
    "    i = i[0]\n",
    "    Final_Strel.append(round(I_0(i)/I_max, 2))\n",
    "    \n",
    "s = 0\n",
    "for i in Final_Strel:\n",
    "    if i >= 0.7:\n",
    "        s +=1\n",
    "        \n"
   ]
  },
  {
   "cell_type": "code",
   "execution_count": 271,
   "metadata": {},
   "outputs": [
    {
     "data": {
      "text/plain": [
       "10000"
      ]
     },
     "execution_count": 271,
     "metadata": {},
     "output_type": "execute_result"
    }
   ],
   "source": [
    "len(Final_Strel)"
   ]
  },
  {
   "cell_type": "code",
   "execution_count": 272,
   "metadata": {},
   "outputs": [
    {
     "data": {
      "text/plain": [
       "4101"
      ]
     },
     "execution_count": 272,
     "metadata": {},
     "output_type": "execute_result"
    }
   ],
   "source": [
    "s"
   ]
  },
  {
   "cell_type": "code",
   "execution_count": 273,
   "metadata": {},
   "outputs": [
    {
     "data": {
      "text/plain": [
       "<BarContainer object of 10 artists>"
      ]
     },
     "execution_count": 273,
     "metadata": {},
     "output_type": "execute_result"
    },
    {
     "data": {
      "image/png": "[encoded data removed]",
      "text/plain": [
       "<Figure size 640x480 with 1 Axes>"
      ]
     },
     "metadata": {},
     "output_type": "display_data"
    }
   ],
   "source": [
    "S = []\n",
    "I = np.arange(10)/10\n",
    "\n",
    "for i in range(10):\n",
    "    i = i / 10\n",
    "    \n",
    "    s = 0\n",
    "    for k in Final_Strel:\n",
    "        if  ( i < k < 0.1+i)  :\n",
    "            s +=1\n",
    "            \n",
    "    S.append(s)\n",
    "    #print(i, i+0.1, s)\n",
    "plt.bar(I, S, width = 0.05)\n",
    "            \n",
    "    \n",
    "    "
   ]
  },
  {
   "cell_type": "code",
   "execution_count": 241,
   "metadata": {},
   "outputs": [
    {
     "data": {
      "text/plain": [
       "[719, 750, 943, 765, 674, 712, 825, 1128, 1336, 1202]"
      ]
     },
     "execution_count": 241,
     "metadata": {},
     "output_type": "execute_result"
    }
   ],
   "source": [
    "S"
   ]
  },
  {
   "cell_type": "code",
   "execution_count": 182,
   "metadata": {},
   "outputs": [
    {
     "data": {
      "text/plain": [
       "<BarContainer object of 10 artists>"
      ]
     },
     "execution_count": 182,
     "metadata": {},
     "output_type": "execute_result"
    },
    {
     "data": {
      "image/png": "[encoded data removed]",
      "text/plain": [
       "<Figure size 640x480 with 1 Axes>"
      ]
     },
     "metadata": {},
     "output_type": "display_data"
    }
   ],
   "source": [
    "S = []\n",
    "I = np.arange(10)/10\n",
    "\n",
    "for i in range(10):\n",
    "    i = i / 10\n",
    "    \n",
    "    s = 0\n",
    "    for k in Initial_Strel:\n",
    "        if  ( i < k < 0.1+i)  :\n",
    "            s +=1\n",
    "            \n",
    "    S.append(s)\n",
    "    #print(i, i+0.1, s)\n",
    "    \n",
    "plt.bar(I, S, width = 0.05)"
   ]
  },
  {
   "cell_type": "code",
   "execution_count": null,
   "metadata": {},
   "outputs": [],
   "source": [
    "S"
   ]
  },
  {
   "cell_type": "code",
   "execution_count": null,
   "metadata": {},
   "outputs": [],
   "source": []
  },
  {
   "cell_type": "code",
   "execution_count": null,
   "metadata": {},
   "outputs": [],
   "source": []
  }
 ],
 "metadata": {
  "kernelspec": {
   "display_name": "Python 3 (ipykernel)",
   "language": "python",
   "name": "python3"
  },
  "language_info": {
   "codemirror_mode": {
    "name": "ipython",
    "version": 3
   },
   "file_extension": ".py",
   "mimetype": "text/x-python",
   "name": "python",
   "nbconvert_exporter": "python",
   "pygments_lexer": "ipython3",
   "version": "3.9.13"
  },
  "vscode": {
   "interpreter": {
    "hash": "2999872ec8ad345f0ca8e7b8b6db1bf93266170f77d3487399a48380642a6458"
   }
  }
 },
 "nbformat": 4,
 "nbformat_minor": 2
}
